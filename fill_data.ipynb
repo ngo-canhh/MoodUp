{
  "cells": [
    {
      "cell_type": "markdown",
      "metadata": {
        "id": "view-in-github",
        "colab_type": "text"
      },
      "source": [
        "<a href=\"https://colab.research.google.com/github/ngo-canhh/MoodUp/blob/ngocanh/fill_data.ipynb\" target=\"_parent\"><img src=\"https://colab.research.google.com/assets/colab-badge.svg\" alt=\"Open In Colab\"/></a>"
      ]
    },
    {
      "cell_type": "code",
      "execution_count": null,
      "metadata": {
        "id": "en_41D-6kCm6"
      },
      "outputs": [],
      "source": [
        "import pandas as pd"
      ]
    },
    {
      "cell_type": "code",
      "execution_count": null,
      "metadata": {
        "id": "JYAOG_fzkCm7"
      },
      "outputs": [],
      "source": [
        "df = pd.read_csv('../datasets/train.csv')\n",
        "df.head()"
      ]
    },
    {
      "cell_type": "code",
      "execution_count": null,
      "metadata": {
        "id": "Nda-oGXdkCm8"
      },
      "outputs": [],
      "source": [
        "df.shape"
      ]
    },
    {
      "cell_type": "code",
      "execution_count": null,
      "metadata": {
        "id": "R7zaNj5hkCm8"
      },
      "outputs": [],
      "source": [
        "df['Profession'].head()"
      ]
    },
    {
      "cell_type": "code",
      "execution_count": null,
      "metadata": {
        "id": "U-vDiNbhkCm8"
      },
      "outputs": [],
      "source": [
        "df[(df['Working Professional or Student'] == 'Student')]"
      ]
    },
    {
      "cell_type": "code",
      "execution_count": null,
      "metadata": {
        "id": "UixqAOVtkCm9"
      },
      "outputs": [],
      "source": [
        "df[(df['Working Professional or Student'] == 'Student') & (df['Academic Pressure'].notna())]"
      ]
    },
    {
      "cell_type": "code",
      "execution_count": null,
      "metadata": {
        "id": "ifYvgCSikCm9"
      },
      "outputs": [],
      "source": [
        "df[(df['Working Professional or Student'] == 'Student') & (df['Academic Pressure'].notna()) & (df['Study Satisfaction'].notna())]"
      ]
    },
    {
      "cell_type": "code",
      "execution_count": null,
      "metadata": {
        "id": "zIuL1skYkCm9"
      },
      "outputs": [],
      "source": [
        "df[(df['Working Professional or Student'] == 'Student') & (df['Academic Pressure'].notna()) & (df['Study Satisfaction'].notna()) & (df['CGPA'].notna())]\n",
        "# fill 'Profession' = 'Student', 'Work Pressure' -> 0.0 if match constrain above"
      ]
    },
    {
      "cell_type": "code",
      "execution_count": null,
      "metadata": {
        "id": "baQPNGdqkCm9"
      },
      "outputs": [],
      "source": [
        "# Điều kiện lọc\n",
        "condition = (\n",
        "    (df['Working Professional or Student'] == 'Student') &\n",
        "    (df['Academic Pressure'].notna()) &\n",
        "    (df['Study Satisfaction'].notna()) &\n",
        "    (df['CGPA'].notna())\n",
        ")\n",
        "\n",
        "# Cập nhật giá trị cho các hàng thỏa mãn điều kiện\n",
        "df.loc[condition, 'Profession'] = 'Student'\n",
        "df.loc[condition, 'Work Pressure'] = 0.0\n",
        "df.loc[condition, 'Job Satisfaction'] = 0.0\n",
        "\n",
        "\n",
        "df[(df['Working Professional or Student'] == 'Student') & (df['Academic Pressure'].notna()) & (df['Study Satisfaction'].notna()) & (df['CGPA'].notna())]\n"
      ]
    },
    {
      "cell_type": "code",
      "execution_count": null,
      "metadata": {
        "id": "0Bf5RPy4kCm-"
      },
      "outputs": [],
      "source": [
        "df[(df['Working Professional or Student'] == 'Working Professional')]['Profession'].value_counts()"
      ]
    },
    {
      "cell_type": "code",
      "execution_count": null,
      "metadata": {
        "id": "eBMxPuYqkCm-"
      },
      "outputs": [],
      "source": [
        "df[(df['Working Professional or Student'] == 'Working Professional') & (df['Work Pressure'].notna())]"
      ]
    },
    {
      "cell_type": "code",
      "execution_count": null,
      "metadata": {
        "id": "UKmXql-SkCm-"
      },
      "outputs": [],
      "source": [
        "df[(df['Working Professional or Student'] == 'Working Professional') & (df['Work Pressure'].notna()) & (df['Job Satisfaction'].notna())]\n",
        "# fill 'Academic Pressure' -> 0.0, 'CGPA' -> -1, 'Study Satisfaction' = 0.0 if match constrain above"
      ]
    },
    {
      "cell_type": "code",
      "execution_count": null,
      "metadata": {
        "id": "6-DEf_YakCm-"
      },
      "outputs": [],
      "source": [
        "# Điều kiện lọc\n",
        "condition = (\n",
        "    (df['Working Professional or Student'] == 'Working Professional') &\n",
        "    (df['Work Pressure'].notna()) &\n",
        "    (df['Job Satisfaction'].notna())\n",
        ")\n",
        "\n",
        "# Cập nhật giá trị cho các hàng thỏa mãn điều kiện\n",
        "df.loc[condition, 'Academic Pressure'] = 0.0\n",
        "df.loc[condition, 'CGPA'] = -1\n",
        "df.loc[condition, 'Study Satisfaction'] = 0.0\n",
        "\n",
        "df[(df['Working Professional or Student'] == 'Working Professional') & (df['Work Pressure'].notna()) & (df['Job Satisfaction'].notna())]"
      ]
    },
    {
      "cell_type": "code",
      "execution_count": null,
      "metadata": {
        "id": "AnTfCxzMkCm_"
      },
      "outputs": [],
      "source": [
        "df[(df['Profession'].isna()) & (df['Degree'] == 'Class 12') & (df['Working Professional or Student'] == 'Working Professional')]\n",
        "#['Depression'].value_counts()"
      ]
    },
    {
      "cell_type": "code",
      "execution_count": null,
      "metadata": {
        "id": "A7lF8ZEYkCm_"
      },
      "outputs": [],
      "source": [
        "# Điều kiện lọc\n",
        "condition = (\n",
        "    (df['Profession'].isna()) &\n",
        "    (df['Degree'] == 'Class 12') &\n",
        "    (df['Working Professional or Student'] == 'Working Professional')\n",
        ")\n",
        "\n",
        "# Cập nhật giá trị cho các hàng thỏa mãn điều kiện\n",
        "df.loc[condition, 'Profession'] = 'Other'\n",
        "\n",
        "df[condition]"
      ]
    },
    {
      "cell_type": "code",
      "execution_count": null,
      "metadata": {
        "id": "Y4pz006KkCm_"
      },
      "outputs": [],
      "source": [
        "df[df.isna().any(axis=1)]"
      ]
    },
    {
      "cell_type": "markdown",
      "metadata": {
        "id": "uhMoIMJQkCnA"
      },
      "source": [
        "# Điền random"
      ]
    },
    {
      "cell_type": "code",
      "execution_count": null,
      "metadata": {
        "id": "7LXCRb5okCnA"
      },
      "outputs": [],
      "source": []
    },
    {
      "cell_type": "code",
      "execution_count": null,
      "metadata": {
        "id": "XMIREJ8OkCnB"
      },
      "outputs": [],
      "source": []
    },
    {
      "cell_type": "code",
      "execution_count": null,
      "metadata": {
        "id": "GU-etLu1kCnB"
      },
      "outputs": [],
      "source": []
    },
    {
      "cell_type": "markdown",
      "metadata": {
        "id": "znOjKuUJkCnB"
      },
      "source": [
        "# Xoá hết Sleep Duration lỗi"
      ]
    },
    {
      "cell_type": "markdown",
      "metadata": {
        "id": "RvEMgINdkCnB"
      },
      "source": [
        "# Tính giá trị cho Sleep duration"
      ]
    },
    {
      "cell_type": "markdown",
      "metadata": {
        "id": "nWgDeOXhkCnB"
      },
      "source": [
        "# Map thói quen ăn uống\n",
        "#"
      ]
    },
    {
      "cell_type": "code",
      "execution_count": null,
      "metadata": {
        "id": "vDKgFDTxkCnB"
      },
      "outputs": [],
      "source": [
        "df_cleaned = df.dropna()\n",
        "df_cleaned.to_csv('filled.csv',index=False)"
      ]
    },
    {
      "cell_type": "code",
      "execution_count": null,
      "metadata": {
        "id": "_NGvba4gkCnB"
      },
      "outputs": [],
      "source": [
        "from ydata_profiling import ProfileReport\n"
      ]
    },
    {
      "cell_type": "code",
      "execution_count": null,
      "metadata": {
        "id": "JlJd18YukCnC"
      },
      "outputs": [],
      "source": [
        "profile = ProfileReport(df=df_cleaned, title=\"Profiling Report\")\n",
        "profile.to_file('profile_report.html')"
      ]
    },
    {
      "cell_type": "code",
      "execution_count": null,
      "metadata": {
        "id": "UvNEy3l1kCnC"
      },
      "outputs": [],
      "source": []
    },
    {
      "cell_type": "code",
      "execution_count": null,
      "metadata": {
        "id": "fB2IlRLikCnC"
      },
      "outputs": [],
      "source": []
    },
    {
      "cell_type": "code",
      "execution_count": null,
      "metadata": {
        "id": "tV93b-htkCnD"
      },
      "outputs": [],
      "source": []
    },
    {
      "cell_type": "code",
      "execution_count": null,
      "metadata": {
        "id": "qeKH9CCrkCnD"
      },
      "outputs": [],
      "source": [
        "df[(df['Profession'] != 'Other') & (df['Degree'] == 'Class 12') & (df['Working Professional or Student'] != 'Student')]"
      ]
    },
    {
      "cell_type": "code",
      "execution_count": null,
      "metadata": {
        "id": "B8A74XzVkCnD"
      },
      "outputs": [],
      "source": [
        "df[(df['Working Professional or Student'] != 'Student')]"
      ]
    },
    {
      "cell_type": "code",
      "execution_count": null,
      "metadata": {
        "id": "zz8cQ103kCnE"
      },
      "outputs": [],
      "source": []
    }
  ],
  "metadata": {
    "kernelspec": {
      "display_name": "ml-env",
      "language": "python",
      "name": "python3"
    },
    "language_info": {
      "codemirror_mode": {
        "name": "ipython",
        "version": 3
      },
      "file_extension": ".py",
      "mimetype": "text/x-python",
      "name": "python",
      "nbconvert_exporter": "python",
      "pygments_lexer": "ipython3",
      "version": "3.12.7"
    },
    "colab": {
      "provenance": [],
      "include_colab_link": true
    }
  },
  "nbformat": 4,
  "nbformat_minor": 0
}