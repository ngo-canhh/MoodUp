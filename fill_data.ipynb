{
 "cells": [
  {
   "cell_type": "markdown",
   "metadata": {
    "colab_type": "text",
    "id": "view-in-github"
   },
   "source": [
    "<a href=\"https://colab.research.google.com/github/ngo-canhh/MoodUp/blob/ngocanh/fill_data.ipynb\" target=\"_parent\"><img src=\"https://colab.research.google.com/assets/colab-badge.svg\" alt=\"Open In Colab\"/></a>"
   ]
  },
  {
   "cell_type": "code",
   "execution_count": null,
   "metadata": {
    "id": "en_41D-6kCm6"
   },
   "outputs": [],
   "source": [
    "import pandas as pd"
   ]
  },
  {
   "cell_type": "code",
   "execution_count": null,
   "metadata": {
    "colab": {
     "base_uri": "https://localhost:8080/",
     "height": 382
    },
    "id": "JYAOG_fzkCm7",
    "outputId": "8cb8667c-3f60-4850-fc65-3a7c6d351920"
   },
   "outputs": [],
   "source": [
    "df = pd.read_csv('datasets/train.csv')\n",
    "df.head()"
   ]
  },
  {
   "cell_type": "code",
   "execution_count": null,
   "metadata": {
    "colab": {
     "base_uri": "https://localhost:8080/"
    },
    "id": "Nda-oGXdkCm8",
    "outputId": "402bf8df-b031-486c-fb95-5730fc1cd317"
   },
   "outputs": [],
   "source": [
    "df.shape"
   ]
  },
  {
   "cell_type": "code",
   "execution_count": null,
   "metadata": {
    "colab": {
     "base_uri": "https://localhost:8080/",
     "height": 241
    },
    "id": "R7zaNj5hkCm8",
    "outputId": "6dff3b3d-1169-4148-f2f0-ebecb178680e"
   },
   "outputs": [],
   "source": [
    "df['Profession'].head()"
   ]
  },
  {
   "cell_type": "code",
   "execution_count": null,
   "metadata": {
    "colab": {
     "base_uri": "https://localhost:8080/",
     "height": 582
    },
    "id": "U-vDiNbhkCm8",
    "outputId": "fa448954-b1dd-4498-9eb8-b1de6754c93f"
   },
   "outputs": [],
   "source": [
    "df[(df['Working Professional or Student'] == 'Student')]"
   ]
  },
  {
   "cell_type": "code",
   "execution_count": null,
   "metadata": {
    "colab": {
     "base_uri": "https://localhost:8080/",
     "height": 582
    },
    "id": "UixqAOVtkCm9",
    "outputId": "dcaa95ae-900e-4810-f915-4d0ba6033245"
   },
   "outputs": [],
   "source": [
    "df[(df['Working Professional or Student'] == 'Student') & (df['Academic Pressure'].notna())]"
   ]
  },
  {
   "cell_type": "code",
   "execution_count": null,
   "metadata": {
    "colab": {
     "base_uri": "https://localhost:8080/",
     "height": 582
    },
    "id": "ifYvgCSikCm9",
    "outputId": "e1b453a1-22cf-4f74-dc04-2f392fd69dc3"
   },
   "outputs": [],
   "source": [
    "df[(df['Working Professional or Student'] == 'Student') & (df['Academic Pressure'].notna()) & (df['Study Satisfaction'].notna())]"
   ]
  },
  {
   "cell_type": "code",
   "execution_count": null,
   "metadata": {
    "colab": {
     "base_uri": "https://localhost:8080/",
     "height": 582
    },
    "id": "zIuL1skYkCm9",
    "outputId": "2130c28d-63eb-43c3-cc69-f9a952bd5022"
   },
   "outputs": [],
   "source": [
    "df[(df['Working Professional or Student'] == 'Student') & (df['Academic Pressure'].notna()) & (df['Study Satisfaction'].notna()) & (df['CGPA'].notna())]\n",
    "# fill 'Profession' = 'Student', 'Work Pressure' -> 0.0 if match constrain above"
   ]
  },
  {
   "cell_type": "code",
   "execution_count": null,
   "metadata": {
    "colab": {
     "base_uri": "https://localhost:8080/",
     "height": 582
    },
    "id": "baQPNGdqkCm9",
    "outputId": "4d805edb-d64a-4ae0-b76f-eba4584488fb"
   },
   "outputs": [],
   "source": [
    "# Điều kiện lọc\n",
    "condition = (\n",
    "    (df['Working Professional or Student'] == 'Student') &\n",
    "    (df['Academic Pressure'].notna()) &\n",
    "    (df['Study Satisfaction'].notna()) &\n",
    "    (df['CGPA'].notna())\n",
    ")\n",
    "\n",
    "# Cập nhật giá trị cho các hàng thỏa mãn điều kiện\n",
    "df.loc[condition, 'Profession'] = 'Student'\n",
    "df.loc[condition, 'Work Pressure'] = 0.0\n",
    "df.loc[condition, 'Job Satisfaction'] = 0.0\n",
    "\n",
    "\n",
    "df[(df['Working Professional or Student'] == 'Student') & (df['Academic Pressure'].notna()) & (df['Study Satisfaction'].notna()) & (df['CGPA'].notna())]\n"
   ]
  },
  {
   "cell_type": "code",
   "execution_count": null,
   "metadata": {
    "colab": {
     "base_uri": "https://localhost:8080/",
     "height": 721
    },
    "id": "UKmXql-SkCm-",
    "outputId": "0ab36300-da5c-4fee-a313-77dfec9a1ec9"
   },
   "outputs": [],
   "source": [
    "df[(df['Working Professional or Student'] == 'Working Professional') & (df['Work Pressure'].notna()) & (df['Job Satisfaction'].notna())]\n",
    "# fill 'Academic Pressure' -> 0.0, 'CGPA' -> -1, 'Study Satisfaction' = 0.0 if match constrain above"
   ]
  },
  {
   "cell_type": "code",
   "execution_count": null,
   "metadata": {
    "colab": {
     "base_uri": "https://localhost:8080/",
     "height": 721
    },
    "id": "6-DEf_YakCm-",
    "outputId": "1ec87cdd-089b-4713-933c-d8ba30fa5232"
   },
   "outputs": [],
   "source": [
    "# Điều kiện lọc\n",
    "condition = (\n",
    "    (df['Working Professional or Student'] == 'Working Professional') &\n",
    "    (df['Work Pressure'].notna()) &\n",
    "    (df['Job Satisfaction'].notna())\n",
    ")\n",
    "\n",
    "# Cập nhật giá trị cho các hàng thỏa mãn điều kiện\n",
    "df.loc[condition, 'Academic Pressure'] = 0.0\n",
    "df.loc[condition, 'CGPA'] = -1\n",
    "df.loc[condition, 'Study Satisfaction'] = 0.0\n",
    "\n",
    "df[(df['Working Professional or Student'] == 'Working Professional') & (df['Work Pressure'].notna()) & (df['Job Satisfaction'].notna())]"
   ]
  },
  {
   "cell_type": "code",
   "execution_count": null,
   "metadata": {
    "id": "AnTfCxzMkCm_"
   },
   "outputs": [],
   "source": [
    "df[(df['Profession'].isna()) & (df['Degree'] == 'Class 12') & (df['Working Professional or Student'] == 'Working Professional')]\n",
    "#['Depression'].value_counts()"
   ]
  },
  {
   "cell_type": "code",
   "execution_count": null,
   "metadata": {
    "colab": {
     "base_uri": "https://localhost:8080/",
     "height": 704
    },
    "id": "A7lF8ZEYkCm_",
    "outputId": "07a2e385-b906-4dfd-c90d-058ec20f3d15"
   },
   "outputs": [],
   "source": [
    "# Điều kiện lọc\n",
    "condition = (\n",
    "    (df['Profession'].isna()) &\n",
    "    (df['Degree'] == 'Class 12') &\n",
    "    (df['Working Professional or Student'] == 'Working Professional')\n",
    ")\n",
    "\n",
    "# Cập nhật giá trị cho các hàng thỏa mãn điều kiện\n",
    "df.loc[condition, 'Profession'] = 'Other'\n",
    "\n",
    "df[condition]"
   ]
  },
  {
   "cell_type": "code",
   "execution_count": null,
   "metadata": {
    "colab": {
     "base_uri": "https://localhost:8080/",
     "height": 756
    },
    "id": "Y4pz006KkCm_",
    "outputId": "6892cef6-73a1-466e-9dd1-74aee4eed364"
   },
   "outputs": [],
   "source": [
    "df[df.isna().any(axis=1)]"
   ]
  },
  {
   "cell_type": "code",
   "execution_count": null,
   "metadata": {
    "colab": {
     "base_uri": "https://localhost:8080/",
     "height": 711
    },
    "id": "kOtJe0i2maI1",
    "outputId": "667054c9-9d55-4c4a-8746-5eca27a61e38"
   },
   "outputs": [],
   "source": [
    "df.isnull().sum()"
   ]
  },
  {
   "cell_type": "markdown",
   "metadata": {
    "id": "uhMoIMJQkCnA"
   },
   "source": [
    "# Điền random profession"
   ]
  },
  {
   "cell_type": "code",
   "execution_count": null,
   "metadata": {
    "colab": {
     "base_uri": "https://localhost:8080/"
    },
    "id": "7LXCRb5okCnA",
    "outputId": "6cae6c12-5d48-4b9f-ab2b-99132ebe9e2e"
   },
   "outputs": [],
   "source": [
    "import random\n",
    "random.seed(42)\n",
    "info_profession = df['Profession'].value_counts()\n",
    "list_profession = []\n",
    "for index, value in info_profession.items():\n",
    "  if index not in ['Student', 'Other']:\n",
    "    for i in range(value):\n",
    "      list_profession.append(index)\n",
    "df['Profession'] = df['Profession'].apply(\n",
    "    lambda x: x if pd.notnull(x) else random.choice(list_profession)\n",
    ")\n",
    "df['Profession'].isnull().sum()"
   ]
  },
  {
   "cell_type": "markdown",
   "metadata": {
    "id": "znOjKuUJkCnB"
   },
   "source": [
    "# Xoá hết Sleep Duration lỗi"
   ]
  },
  {
   "cell_type": "markdown",
   "metadata": {
    "id": "RvEMgINdkCnB"
   },
   "source": [
    "# Tính giá trị cho Sleep duration"
   ]
  },
  {
   "cell_type": "code",
   "execution_count": null,
   "metadata": {
    "id": "g4FAiCccojgI"
   },
   "outputs": [],
   "source": [
    "import re\n",
    "def extract_sleep_hours(value):\n",
    "    match = re.findall(r'\\d+', value)\n",
    "    if len(match) == 1 and float(match[0]) <= 24:\n",
    "        return float(match[0])\n",
    "    elif len(match) == 2 and (float(match[0]) + float(match[1])) / 2 < 24:\n",
    "        return (float(match[0]) + float(match[1])) / 2\n",
    "    else:\n",
    "        return None"
   ]
  },
  {
   "cell_type": "markdown",
   "metadata": {
    "id": "nWgDeOXhkCnB"
   },
   "source": [
    "# Map thói quen ăn uống\n",
    "#"
   ]
  },
  {
   "cell_type": "code",
   "execution_count": null,
   "metadata": {
    "id": "xmQibeRJpFeK"
   },
   "outputs": [],
   "source": [
    "def map_dietary_habits(value):\n",
    "    if value in ['Healthy', 'More Healthy', 'Yes']:\n",
    "        return 'Healthy'\n",
    "    elif value in ['Unhealthy', 'No Healthy', 'Less Healthy']:\n",
    "        return 'Unhealthy'\n",
    "    elif value in ['Moderate']:\n",
    "        return 'Moderate'\n",
    "    else:\n",
    "        return None"
   ]
  },
  {
   "cell_type": "code",
   "execution_count": null,
   "metadata": {
    "colab": {
     "base_uri": "https://localhost:8080/"
    },
    "id": "TSIkbkp0qEK7",
    "outputId": "4d36dee8-aff4-49bb-a653-46a4980d7e38"
   },
   "outputs": [],
   "source": [
    "print(df['Sleep Duration'].value_counts())\n",
    "print('Number NaN_Values: ', df['Sleep Duration'].isna().sum())\n",
    "# df['Sleep Duration'] = df['Sleep Duration'].apply(extract_sleep_hours)\n",
    "# df['Sleep Duration'].value_counts()"
   ]
  },
  {
   "cell_type": "code",
   "execution_count": null,
   "metadata": {
    "colab": {
     "base_uri": "https://localhost:8080/"
    },
    "id": "06_mShNNqL8L",
    "outputId": "95fbca3f-3018-4cb8-a39d-0a4bb6eda8fe"
   },
   "outputs": [],
   "source": [
    "print(df['Dietary Habits'].value_counts())\n",
    "df['Dietary Habits'] = df['Dietary Habits'].apply(map_dietary_habits)\n",
    "print(df['Dietary Habits'].value_counts())\n"
   ]
  },
  {
   "cell_type": "code",
   "execution_count": null,
   "metadata": {
    "colab": {
     "base_uri": "https://localhost:8080/"
    },
    "id": "EIr42orTrXpw",
    "outputId": "2d00f3ff-c6c7-4c61-8c73-463b94846db1"
   },
   "outputs": [],
   "source": [
    "df['Dietary Habits'].isna().sum()"
   ]
  },
  {
   "cell_type": "code",
   "execution_count": null,
   "metadata": {
    "colab": {
     "base_uri": "https://localhost:8080/",
     "height": 711
    },
    "id": "2KjOHGjbwNe1",
    "outputId": "068def93-7f26-405e-ea52-fec192d1b09f"
   },
   "outputs": [],
   "source": [
    "df.isnull().sum()"
   ]
  },
  {
   "cell_type": "code",
   "execution_count": null,
   "metadata": {
    "id": "vDKgFDTxkCnB"
   },
   "outputs": [],
   "source": [
    "df.to_csv('filled.csv',index=False)"
   ]
  },
  {
   "cell_type": "markdown",
   "metadata": {
    "id": "rorpyNy0rk1b"
   },
   "source": [
    "#END"
   ]
  },
  {
   "cell_type": "code",
   "execution_count": null,
   "metadata": {
    "id": "_NGvba4gkCnB"
   },
   "outputs": [],
   "source": [
    "from ydata_profiling import ProfileReport\n"
   ]
  },
  {
   "cell_type": "code",
   "execution_count": null,
   "metadata": {
    "id": "JlJd18YukCnC"
   },
   "outputs": [],
   "source": [
    "profile = ProfileReport(df=df_cleaned, title=\"Profiling Report\")\n",
    "profile.to_file('profile_report.html')"
   ]
  },
  {
   "cell_type": "code",
   "execution_count": null,
   "metadata": {
    "id": "UvNEy3l1kCnC"
   },
   "outputs": [],
   "source": []
  },
  {
   "cell_type": "code",
   "execution_count": null,
   "metadata": {
    "id": "fB2IlRLikCnC"
   },
   "outputs": [],
   "source": []
  },
  {
   "cell_type": "code",
   "execution_count": null,
   "metadata": {
    "id": "tV93b-htkCnD"
   },
   "outputs": [],
   "source": []
  },
  {
   "cell_type": "code",
   "execution_count": null,
   "metadata": {
    "id": "qeKH9CCrkCnD"
   },
   "outputs": [],
   "source": [
    "df[(df['Profession'] != 'Other') & (df['Degree'] == 'Class 12') & (df['Working Professional or Student'] != 'Student')]"
   ]
  },
  {
   "cell_type": "code",
   "execution_count": null,
   "metadata": {
    "id": "B8A74XzVkCnD"
   },
   "outputs": [],
   "source": [
    "df[(df['Working Professional or Student'] != 'Student')]"
   ]
  },
  {
   "cell_type": "code",
   "execution_count": null,
   "metadata": {
    "id": "zz8cQ103kCnE"
   },
   "outputs": [],
   "source": []
  }
 ],
 "metadata": {
  "accelerator": "GPU",
  "colab": {
   "gpuType": "T4",
   "include_colab_link": true,
   "provenance": []
  },
  "kernelspec": {
   "display_name": "ml-env",
   "language": "python",
   "name": "python3"
  },
  "language_info": {
   "codemirror_mode": {
    "name": "ipython",
    "version": 3
   },
   "file_extension": ".py",
   "mimetype": "text/x-python",
   "name": "python",
   "nbconvert_exporter": "python",
   "pygments_lexer": "ipython3",
   "version": "3.12.7"
  }
 },
 "nbformat": 4,
 "nbformat_minor": 0
}
